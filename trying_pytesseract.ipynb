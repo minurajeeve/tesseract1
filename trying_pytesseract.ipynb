{
 "cells": [
  {
   "cell_type": "markdown",
   "metadata": {},
   "source": [
    "### The simplest code to convert an image to string "
   ]
  },
  {
   "cell_type": "code",
   "execution_count": 1,
   "metadata": {},
   "outputs": [],
   "source": [
    "from PIL import Image\n",
    "import pytesseract\n"
   ]
  },
  {
   "cell_type": "code",
   "execution_count": 14,
   "metadata": {},
   "outputs": [
    {
     "name": "stdout",
     "output_type": "stream",
     "text": [
      "Seelam Vols]\n",
      "\n",
      "cra clo Eo eT OCR UK\n",
      "\n",
      " \n",
      "\n",
      " \n",
      "\n",
      "x - DFind ~\n",
      "a By Calibri (Body v|11_ Vv A A J | paBbcedd) AaBbCcDd AaBbCc AaBbCce AKQB aasbccd Aasbcedd AaBbCcDd AaBbCcDd | 2. Repl\n",
      "E 83 Replace\n",
      "Paste . 2 . . =\n",
      "tev rormatPainter | BOT Ura x. x A ol TNormal | TNo Spac... Heading1 Heading 2 Title Subtitle Subtle Em... Emphasis Intense E... [7 woe\n",
      "Clipboard 5 Font 5 Paragraph 5 Styles 5 Editing A\n",
      "\n",
      " \n",
      "\n",
      " \n",
      "\n",
      "1AM MINU RAJEEVE PAYYAPILLY\n",
      "\n",
      "Page3of3 Swords [[% English (India) Ba _ 1 + 100%\n"
     ]
    }
   ],
   "source": [
    "im =Image.open(\"I am minu.png\") \n",
    "text=pytesseract.image_to_string(im, lang=\"eng\")\n",
    "print(text)"
   ]
  },
  {
   "cell_type": "markdown",
   "metadata": {},
   "source": [
    "## The following code will charecterize the text into certain blocks and then extract the data"
   ]
  },
  {
   "cell_type": "code",
   "execution_count": 15,
   "metadata": {},
   "outputs": [],
   "source": [
    "import cv2 \n",
    "import pytesseract "
   ]
  },
  {
   "cell_type": "code",
   "execution_count": 25,
   "metadata": {},
   "outputs": [
    {
     "name": "stdout",
     "output_type": "stream",
     "text": [
      "INVOICE\n",
      "MS IT SERVICES\n",
      "Shop No 1, Ground Floor Business Avenue.\n",
      "Pune, 412105.\n",
      "INVOICE NO. 112234\n",
      "DATE 17-04-2020\n",
      "\n",
      "a\n",
      "\n",
      "CUSTOMER ID TERMS.\n",
      "PAYMENT MODE Cash on Delivery\n",
      "Phone: (+91)123-4567-890\n",
      "BILLTO\n",
      "\n",
      "Royal Villa No.2B,\n",
      "Vinayak Peth\n",
      "\n",
      "Airport Rode,\n",
      "\n",
      "Akola, 444001\n",
      "\n",
      "Phone: (+91)9900100445\n",
      "mayur@gmail.com\n",
      "DESCRIPTIO! rein ad ites AMOUNT\n",
      "CPU Cabinet % 1.00 10,000.00 % 10,000.00\n",
      "wireless Keybord and Mouse 21.00 % 3,000.00 % 3,000.00\n",
      "8 Gb DDRS RAM % 2.00 % 2,000.00 % 4,000.00\n",
      "500 Gb SSD % 1.00 % 6,000.00 % 6,000.00\n",
      "1080 Ti Graphics Card % 1.00 % 50,000.00 % 50,000.00\n",
      "\n",
      " \n",
      "\n",
      " \n",
      "\n",
      " \n",
      "\n",
      " \n",
      "\n",
      " \n",
      "\n",
      " \n",
      "\n",
      " \n",
      "\n",
      " \n",
      "\n",
      " \n",
      "\n",
      " \n",
      "\n",
      " \n",
      "\n",
      " \n",
      "\n",
      " \n",
      "\n",
      " \n",
      "\n",
      "Thank you for your business! SUBTOTAL % 73,000.00\n",
      "TAX RATE\n",
      "20.04\n",
      "TAX\n",
      "% 3,102.50\n",
      "TOTAL\n",
      "3 76,102.50\n",
      "If you have any questions about this invoice, please contact\n",
      "MSITSERVICES.COM/ msitservices@gmail.com\n"
     ]
    }
   ],
   "source": [
    "# Read image from which text needs to be extracted \n",
    "img = cv2.imread(\"msit.jpg\") \n",
    "  \n",
    "# Preprocessing the image starts \n",
    "  \n",
    "# Convert the image to gray scale \n",
    "gray = cv2.cvtColor(img, cv2.COLOR_BGR2GRAY) \n",
    "  \n",
    "# Performing OTSU threshold \n",
    "ret, thresh1 = cv2.threshold(gray, 0, 255, cv2.THRESH_OTSU | cv2.THRESH_BINARY_INV) \n",
    "  \n",
    "# Specify structure shape and kernel size.  \n",
    "# Kernel size increases or decreases the area  \n",
    "# of the rectangle to be detected. \n",
    "# A smaller value like (10, 10) will detect  \n",
    "# each word instead of a sentence. \n",
    "rect_kernel = cv2.getStructuringElement(cv2.MORPH_RECT, (18, 18)) \n",
    "  \n",
    "# Appplying dilation on the threshold image \n",
    "dilation = cv2.dilate(thresh1, rect_kernel, iterations = 1) \n",
    "  \n",
    "# Finding contours \n",
    "contours, hierarchy = cv2.findContours(dilation, cv2.RETR_EXTERNAL,  \n",
    "                                                 cv2.CHAIN_APPROX_NONE) \n",
    "  \n",
    "# Creating a copy of image \n",
    "im2 = img.copy()\n",
    "cv2.imwrite('msitoutput1.png',dilation)\n",
    "  \n",
    "# A text file is created and flushed \n",
    "file = open(\"recognized.txt\", \"w+\") \n",
    "file.write(\"\") \n",
    "file.close() \n",
    "  \n",
    "# Looping through the identified contours \n",
    "# Then rectangular part is cropped and passed on \n",
    "# to pytesseract for extracting text from it \n",
    "# Extracted text is then written into the text file \n",
    "for cnt in contours[::-1]: \n",
    "    x, y, w, h = cv2.boundingRect(cnt) \n",
    "      \n",
    "    # Drawing a rectangle on copied image \n",
    "    rect = cv2.rectangle(im2, (x, y), (x + w, y + h), (0, 255, 0), 2) \n",
    "    cv2.imwrite('msitoutput22.png',rect)\n",
    "    # Cropping the text block for giving input to OCR \n",
    "    cropped = im2[y:y + h, x:x + w]\n",
    "      \n",
    "    # Apply OCR on the cropped image \n",
    "    text = pytesseract.image_to_string(cropped) \n",
    "      \n",
    "    print(text)"
   ]
  },
  {
   "cell_type": "code",
   "execution_count": null,
   "metadata": {},
   "outputs": [],
   "source": []
  }
 ],
 "metadata": {
  "kernelspec": {
   "display_name": "Python 3",
   "language": "python",
   "name": "python3"
  },
  "language_info": {
   "codemirror_mode": {
    "name": "ipython",
    "version": 3
   },
   "file_extension": ".py",
   "mimetype": "text/x-python",
   "name": "python",
   "nbconvert_exporter": "python",
   "pygments_lexer": "ipython3",
   "version": "3.7.1"
  }
 },
 "nbformat": 4,
 "nbformat_minor": 2
}
